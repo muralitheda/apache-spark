{
 "cells": [
  {
   "cell_type": "markdown",
   "id": "806df89d-116d-4b3b-925c-f5f2f9f866ed",
   "metadata": {},
   "source": [
    "# **PySpark Core Program Techniques**"
   ]
  },
  {
   "cell_type": "code",
   "execution_count": 1,
   "id": "8cc9a4fa-f8bb-4439-863a-490f3cf38cc4",
   "metadata": {},
   "outputs": [],
   "source": [
    "#Imports\n",
    "from pyspark.sql.session import SparkSession"
   ]
  },
  {
   "cell_type": "markdown",
   "id": "48137615-5a5a-4ee9-be4b-9505b4577774",
   "metadata": {},
   "source": [
    "## **Q1. How to create SparkSession object creation & sparkContext reference?**"
   ]
  },
  {
   "cell_type": "code",
   "execution_count": 2,
   "id": "c7c057f0-c814-4bf9-93a7-72a8db753e0a",
   "metadata": {},
   "outputs": [
    {
     "name": "stderr",
     "output_type": "stream",
     "text": [
      "25/08/06 18:41:34 WARN Utils: Your hostname, localhost.localdomain resolves to a loopback address: 127.0.0.1; using 192.168.189.130 instead (on interface ens160)\n",
      "25/08/06 18:41:34 WARN Utils: Set SPARK_LOCAL_IP if you need to bind to another address\n",
      "Setting default log level to \"WARN\".\n",
      "To adjust logging level use sc.setLogLevel(newLevel). For SparkR, use setLogLevel(newLevel).\n",
      "25/08/06 18:41:34 WARN NativeCodeLoader: Unable to load native-hadoop library for your platform... using builtin-java classes where applicable\n"
     ]
    },
    {
     "name": "stdout",
     "output_type": "stream",
     "text": [
      "<pyspark.sql.session.SparkSession object at 0xffff5008f5e0>\n"
     ]
    }
   ],
   "source": [
    "#SparkSession is the entry point for accessing the mypyspark cluster operation.\n",
    "#SparkSession object will instantiate SparkContex, SqlContext, HiveContent Objects.\n",
    "#|__SparkSession is a Class\n",
    "#      |__builder is a Class variable/object/attribute to call the SparkSession class methods like master(), appName(), enableHiveSupport(), getOrCreate()\n",
    "#           |__master('yarn')           => method to help us submit the mypyspark application to the respective cluster manager\n",
    "#           |__appName('program-name')  => mypyspark program name that help us identify the jobs runs in a cluster   \n",
    "#           |__enableHiveSupport()      => HiveQueryLanguage(HQL) method help us to create Catalog, UDFs, etc.,\n",
    "#           |__getOrCreate()            => method to create a new SparkSession object or referring to existing SparkSession\n",
    "\n",
    "#SparkSession Object Creation\n",
    "spark=SparkSession.builder.getOrCreate()\n",
    "print(spark)"
   ]
  },
  {
   "cell_type": "code",
   "execution_count": 3,
   "id": "9f255926-c2a9-4c92-9113-18b2afab6620",
   "metadata": {},
   "outputs": [
    {
     "name": "stdout",
     "output_type": "stream",
     "text": [
      "hellow\n"
     ]
    }
   ],
   "source": [
    "print(\"hellow\")"
   ]
  }
 ],
 "metadata": {
  "kernelspec": {
   "display_name": "Python 3 (ipykernel)",
   "language": "python",
   "name": "python3"
  },
  "language_info": {
   "codemirror_mode": {
    "name": "ipython",
    "version": 3
   },
   "file_extension": ".py",
   "mimetype": "text/x-python",
   "name": "python",
   "nbconvert_exporter": "python",
   "pygments_lexer": "ipython3",
   "version": "3.9.21"
  }
 },
 "nbformat": 4,
 "nbformat_minor": 5
}
